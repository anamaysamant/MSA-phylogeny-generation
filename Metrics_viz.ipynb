{
 "cells": [
  {
   "cell_type": "code",
   "execution_count": 24,
   "id": "11a51228-d3fd-4ad5-942c-57d76538dd69",
   "metadata": {},
   "outputs": [],
   "source": [
    "import argparse\n",
    "import pandas as pd\n",
    "from scripts.aux_msa_functions import *\n",
    "import time\n",
    "from scipy.spatial.distance import cdist\n",
    "import os\n",
    "import numpy as np\n",
    "import torch\n",
    "\n",
    "scores_folders = [\"./scores/msa-seed-simulations/MSA-1b/random-proposal/static-context/10/PF00004\",\n",
    "                  \"./scores/msa-seed-simulations/MSA-1b/random-proposal/dynamic-context/10/greedy/PF00004\",\n",
    "                  \"./scores/msa-seed-simulations/MSA-1b/random-proposal/dynamic-context/10/random/PF00004\",\n",
    "                  \"./scores/msa-seed-simulations/ESM2/PF00004\",\n",
    "                  \"./scores/msa-seed-simulations/Potts/PF00004\",\n",
    "                  \"./scores/protein-families-msa-seed\",\n",
    "                  \"./scores/msa-seed-simulations/MSA-1b/msa_prob_dist-proposal/dynamic-context/10/greedy/PF00004\",\n",
    "                  \"./scores/msa-seed-simulations/MSA-1b/msa_prob_dist-proposal/dynamic-context/10/random/PF00004\",\n",
    "                  \"./scores/msa-seed-simulations/MSA-1b/msa_prob_dist-proposal/static-context/10/PF00004\",\n",
    "                 ]\n",
    "\n",
    "tool_types = [\"MSA-randomprop-static\",\"MSA-randomprop-dynamic-greedy\",\"MSA-randomprop-dynamic-random\",\n",
    "              \"ESM2\",\"Potts\",\"nat\",\"MSA-msaprop-dynamic-greedy\",\"MSA-msaprop-dynamic-random\",\n",
    "             \"MSA-msaprop-static\"]\n",
    "\n",
    "tool_scores_dict = {}\n",
    "\n",
    "for j,folder in enumerate(scores_folders):\n",
    "    \n",
    "    main_dataframe = []\n",
    "    \n",
    "    for i,file in enumerate(os.listdir(folder)):\n",
    "\n",
    "        row = {\"tool\":tool_types[j],\"sim_ind\":i+1}\n",
    "        file_path = os.path.join(folder,file)\n",
    "        df = pd.read_csv(file_path, delimiter=\"\\t\")\n",
    "        \n",
    "        df = df.iloc[:,4:].mean(axis = 0)\n",
    "\n",
    "        names = [elem + \"_mean\" for elem in list(df.index)]\n",
    "        df.index = names\n",
    "\n",
    "        record = df.to_dict()\n",
    "        row.update(record)\n",
    "\n",
    "        main_dataframe.append(row)\n",
    "\n",
    "    main_dataframe = pd.DataFrame(main_dataframe)\n",
    "    tool_scores_dict.update({tool_types[j]:main_dataframe})\n",
    "\n",
    "tool_scores_dict[\"nat\"][\"min_natural_ham_dist_seed_mean\"] = [None]\n",
    "tool_scores_dict[\"nat\"][\"min_natural_ham_dist_full_mean\"] = [None]"
   ]
  },
  {
   "cell_type": "code",
   "execution_count": 33,
   "id": "6515a8e7-5a7e-458a-a073-cd78619b8652",
   "metadata": {},
   "outputs": [],
   "source": [
    "relevant_char_indices = list(range(4,24)) + [30]\n",
    "relevant_indices_mapping = {k:v for k,v in zip(relevant_char_indices,list(range(21)))}"
   ]
  },
  {
   "cell_type": "code",
   "execution_count": 35,
   "id": "ac5db7ec-a7da-47e0-82fa-b19e2f22e220",
   "metadata": {},
   "outputs": [
    {
     "data": {
      "text/plain": [
       "{4: 0,\n",
       " 5: 1,\n",
       " 6: 2,\n",
       " 7: 3,\n",
       " 8: 4,\n",
       " 9: 5,\n",
       " 10: 6,\n",
       " 11: 7,\n",
       " 12: 8,\n",
       " 13: 9,\n",
       " 14: 10,\n",
       " 15: 11,\n",
       " 16: 12,\n",
       " 17: 13,\n",
       " 18: 14,\n",
       " 19: 15,\n",
       " 20: 16,\n",
       " 21: 17,\n",
       " 22: 18,\n",
       " 23: 19,\n",
       " 30: 20}"
      ]
     },
     "execution_count": 35,
     "metadata": {},
     "output_type": "execute_result"
    }
   ],
   "source": [
    "relevant_indices_mapping"
   ]
  },
  {
   "cell_type": "code",
   "execution_count": 25,
   "id": "4fadde86-76d4-4db2-8698-6a15a5f3b878",
   "metadata": {},
   "outputs": [],
   "source": [
    "all_metrics_dataframe = pd.concat([df for _,df in tool_scores_dict.items()])\n",
    "\n",
    "large_metrics_dataframe = all_metrics_dataframe[[\"tool\",\"sim_ind\",\"hmmer_seq_score_mean\",\"stat_energy_scores_mean\"]]\n",
    "small_metrics_dataframe = all_metrics_dataframe[[\"tool\",\"sim_ind\",\"min_natural_ham_dist_seed_mean\",\"min_natural_ham_dist_full_mean\",\"max_self_ham_distance_mean\"]]"
   ]
  },
  {
   "cell_type": "code",
   "execution_count": 26,
   "id": "be0aed61-b7ad-483b-bcc0-2821399fcb7f",
   "metadata": {},
   "outputs": [],
   "source": [
    "melted_large_metrics_dataframe = pd.melt(large_metrics_dataframe, id_vars=[\"tool\",\"sim_ind\"], var_name=\"score_type\")\n",
    "melted_small_metrics_dataframe = pd.melt(small_metrics_dataframe, id_vars=[\"tool\",\"sim_ind\"], var_name=\"score_type\")\n"
   ]
  },
  {
   "cell_type": "code",
   "execution_count": 27,
   "id": "2d1e33d8-2580-4c9a-acf4-006dac58830c",
   "metadata": {
    "scrolled": true
   },
   "outputs": [
    {
     "data": {
      "text/html": [
       "<iframe\n",
       "    scrolling=\"no\"\n",
       "    width=\"100%\"\n",
       "    height=\"545px\"\n",
       "    src=\"iframe_figures/figure_27.html\"\n",
       "    frameborder=\"0\"\n",
       "    allowfullscreen\n",
       "></iframe>\n"
      ]
     },
     "metadata": {},
     "output_type": "display_data"
    }
   ],
   "source": [
    "import plotly.express as px\n",
    "\n",
    "import plotly.io as pio\n",
    "pio.renderers.default = 'iframe'\n",
    "\n",
    "fig = px.violin(melted_small_metrics_dataframe, y=\"value\", x=\"tool\",color = \"score_type\", points=\"all\", box = True)\n",
    "fig.show()"
   ]
  },
  {
   "cell_type": "code",
   "execution_count": 28,
   "id": "70e29569-03e3-4038-871f-f70c05fd3812",
   "metadata": {
    "scrolled": true
   },
   "outputs": [
    {
     "data": {
      "text/html": [
       "<iframe\n",
       "    scrolling=\"no\"\n",
       "    width=\"100%\"\n",
       "    height=\"545px\"\n",
       "    src=\"iframe_figures/figure_28.html\"\n",
       "    frameborder=\"0\"\n",
       "    allowfullscreen\n",
       "></iframe>\n"
      ]
     },
     "metadata": {},
     "output_type": "display_data"
    }
   ],
   "source": [
    "fig = px.violin(melted_large_metrics_dataframe, y=\"value\", x=\"tool\",color=\"score_type\",points=\"all\")\n",
    "fig.show()"
   ]
  },
  {
   "cell_type": "code",
   "execution_count": 29,
   "id": "79bbe49f-f8ff-4d9d-b87d-1b95b05c79bb",
   "metadata": {
    "scrolled": true
   },
   "outputs": [
    {
     "data": {
      "text/html": [
       "<iframe\n",
       "    scrolling=\"no\"\n",
       "    width=\"100%\"\n",
       "    height=\"545px\"\n",
       "    src=\"iframe_figures/figure_29.html\"\n",
       "    frameborder=\"0\"\n",
       "    allowfullscreen\n",
       "></iframe>\n"
      ]
     },
     "metadata": {},
     "output_type": "display_data"
    }
   ],
   "source": [
    "fig = px.violin(all_metrics_dataframe, y=\"hmmer_seq_score_mean\", x=\"tool\", points=\"all\", box = True)\n",
    "fig.show()"
   ]
  },
  {
   "cell_type": "code",
   "execution_count": 30,
   "id": "df9f653c-6736-43da-89ce-b18bfed36b50",
   "metadata": {
    "scrolled": true
   },
   "outputs": [
    {
     "data": {
      "text/html": [
       "<iframe\n",
       "    scrolling=\"no\"\n",
       "    width=\"100%\"\n",
       "    height=\"545px\"\n",
       "    src=\"iframe_figures/figure_30.html\"\n",
       "    frameborder=\"0\"\n",
       "    allowfullscreen\n",
       "></iframe>\n"
      ]
     },
     "metadata": {},
     "output_type": "display_data"
    }
   ],
   "source": [
    "fig = px.violin(all_metrics_dataframe, y=\"stat_energy_scores_mean\", x=\"tool\", points=\"all\", box = True)\n",
    "fig.show()"
   ]
  },
  {
   "cell_type": "code",
   "execution_count": 31,
   "id": "e8f58c00-0e61-4f6c-bd4a-9eb4ed7fb3da",
   "metadata": {
    "scrolled": true
   },
   "outputs": [
    {
     "data": {
      "text/html": [
       "<iframe\n",
       "    scrolling=\"no\"\n",
       "    width=\"100%\"\n",
       "    height=\"545px\"\n",
       "    src=\"iframe_figures/figure_31.html\"\n",
       "    frameborder=\"0\"\n",
       "    allowfullscreen\n",
       "></iframe>\n"
      ]
     },
     "metadata": {},
     "output_type": "display_data"
    }
   ],
   "source": [
    "fig = px.violin(all_metrics_dataframe, y=\"min_natural_ham_dist_seed_mean\", x=\"tool\", points=\"all\", box = True)\n",
    "fig.show()"
   ]
  },
  {
   "cell_type": "code",
   "execution_count": 32,
   "id": "b692d352-3cc9-43df-9843-14346751a90c",
   "metadata": {
    "scrolled": true
   },
   "outputs": [
    {
     "data": {
      "text/html": [
       "<iframe\n",
       "    scrolling=\"no\"\n",
       "    width=\"100%\"\n",
       "    height=\"545px\"\n",
       "    src=\"iframe_figures/figure_32.html\"\n",
       "    frameborder=\"0\"\n",
       "    allowfullscreen\n",
       "></iframe>\n"
      ]
     },
     "metadata": {},
     "output_type": "display_data"
    }
   ],
   "source": [
    "fig = px.violin(all_metrics_dataframe, y=\"max_self_ham_distance_mean\", x=\"tool\", points=\"all\", box = True)\n",
    "fig.show()"
   ]
  },
  {
   "cell_type": "code",
   "execution_count": 37,
   "id": "a4e790c2-cc8d-47f6-a48e-0a805ff53a08",
   "metadata": {},
   "outputs": [],
   "source": [
    "import argparse\n",
    "import pandas as pd\n",
    "from scripts.aux_msa_functions import *\n",
    "import time\n",
    "from scipy.spatial.distance import cdist\n",
    "import os\n",
    "from scipy.spatial.distance import cdist\n",
    "\n",
    "scores_folders = [\"./scores/msa-seed-simulations/MSA-1b/random-proposal/static-context/10/PF00004\",\n",
    "                  \"./scores/msa-seed-simulations/MSA-1b/random-proposal/dynamic-context/10/greedy/PF00004\",\n",
    "                  \"./scores/msa-seed-simulations/MSA-1b/random-proposal/dynamic-context/10/random/PF00004\",\n",
    "                  \"./scores/msa-seed-simulations/ESM2/PF00004\",\n",
    "                  \"./scores/msa-seed-simulations/Potts/PF00004\",\n",
    "                  \"./scores/protein-families-msa-seed\",\n",
    "                  \"./scores/msa-seed-simulations/MSA-1b/msa_prob_dist-proposal/dynamic-context/10/greedy/PF00004\",\n",
    "                  \"./scores/msa-seed-simulations/MSA-1b/msa_prob_dist-proposal/dynamic-context/10/random/PF00004\",\n",
    "                  \"./scores/msa-seed-simulations/MSA-1b/msa_prob_dist-proposal/static-context/10/PF00004\",\n",
    "                 ]\n",
    "\n",
    "tool_types = [\"MSA-randomprop-static\",\"MSA-randomprop-dynamic-greedy\",\"MSA-randomprop-dynamic-random\",\n",
    "              \"ESM2\",\"Potts\",\"nat\",\"MSA-msaprop-dynamic-greedy\",\"MSA-msaprop-dynamic-random\",\n",
    "             \"MSA-msaprop-static\"]\n",
    "\n",
    "   \n",
    "main_dataframe = pd.DataFrame(columns=[\"tool\",\"sim_ind\",\"ham_dist\"])\n",
    "\n",
    "for j,folder in enumerate(scores_folders):\n",
    "        \n",
    "    for i,file in enumerate(os.listdir(folder)):\n",
    "\n",
    "        file_path = os.path.join(folder,file)\n",
    "        dist_dataframe = pd.DataFrame()\n",
    "        \n",
    "        df = pd.read_csv(file_path, delimiter=\"\\t\") \n",
    "        num_seq_array = np.array([list(seq) for seq in df[\"sequence\"]], dtype=np.bytes_).view(np.uint8)\n",
    "        \n",
    "        distance_matrix = cdist(num_seq_array,num_seq_array, \"hamming\")\n",
    "        pairwise_distances = np.triu(distance_matrix).flatten()\n",
    "        mask = pairwise_distances != 0\n",
    "        pairwise_distances = pairwise_distances[mask]\n",
    "\n",
    "        dist_dataframe[\"ham_dist\"] = list(pairwise_distances)\n",
    "        dist_dataframe[\"tool\"] = tool_types[j]\n",
    "        dist_dataframe[\"sim_ind\"] = i + 1\n",
    "\n",
    "        main_dataframe = pd.concat((main_dataframe, dist_dataframe))"
   ]
  },
  {
   "cell_type": "code",
   "execution_count": 38,
   "id": "21a49003-eaa0-4301-bdcf-ce3768976327",
   "metadata": {},
   "outputs": [],
   "source": [
    "sim_number = 1\n",
    "\n",
    "main_dataframe.loc[main_dataframe[\"tool\"] == \"nat\",\"sim_ind\"] = sim_number\n",
    "main_dataframe_one_sim = main_dataframe.loc[main_dataframe[\"sim_ind\"] == sim_number, :]"
   ]
  },
  {
   "cell_type": "code",
   "execution_count": 39,
   "id": "30478f87-b217-45d4-84d7-340127957315",
   "metadata": {},
   "outputs": [
    {
     "data": {
      "text/html": [
       "<iframe\n",
       "    scrolling=\"no\"\n",
       "    width=\"100%\"\n",
       "    height=\"545px\"\n",
       "    src=\"iframe_figures/figure_39.html\"\n",
       "    frameborder=\"0\"\n",
       "    allowfullscreen\n",
       "></iframe>\n"
      ]
     },
     "metadata": {},
     "output_type": "display_data"
    }
   ],
   "source": [
    "fig = px.violin(main_dataframe_one_sim, y=\"ham_dist\", x=\"tool\",color = \"sim_ind\", box = True, points = False)\n",
    "fig.show()"
   ]
  }
 ],
 "metadata": {
  "kernelspec": {
   "display_name": "Python 3 (ipykernel)",
   "language": "python",
   "name": "python3"
  },
  "language_info": {
   "codemirror_mode": {
    "name": "ipython",
    "version": 3
   },
   "file_extension": ".py",
   "mimetype": "text/x-python",
   "name": "python",
   "nbconvert_exporter": "python",
   "pygments_lexer": "ipython3",
   "version": "3.8.18"
  }
 },
 "nbformat": 4,
 "nbformat_minor": 5
}
