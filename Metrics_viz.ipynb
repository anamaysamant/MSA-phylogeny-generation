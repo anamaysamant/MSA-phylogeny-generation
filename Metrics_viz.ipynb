{
 "cells": [
  {
   "cell_type": "code",
   "execution_count": 54,
   "id": "11a51228-d3fd-4ad5-942c-57d76538dd69",
   "metadata": {},
   "outputs": [],
   "source": [
    "import argparse\n",
    "import pandas as pd\n",
    "from aux_msa_functions import *\n",
    "import time\n",
    "from scipy.spatial.distance import cdist\n",
    "import os\n",
    "\n",
    "scores_folders = [\"./scores/msa-seed-simulations/MSA-1b/static-context/10/PF00004\",\n",
    "                  \"./scores/msa-seed-simulations/MSA-1b/dynamic-context/10/PF00004\",\n",
    "                  \"./scores/msa-seed-simulations/ESM2/PF00004\",\n",
    "                  \"./scores/msa-seed-simulations/Potts/PF00004\"]\n",
    "\n",
    "tool_types = [\"MSA-static\",\"MSA-dynamic\",\"ESM2\",\"Potts\"]\n",
    "\n",
    "tool_scores_dict = {}\n",
    "\n",
    "for j,folder in enumerate(scores_folders):\n",
    "    \n",
    "    main_dataframe = []\n",
    "    \n",
    "    for i,file in enumerate(os.listdir(folder)):\n",
    "\n",
    "        row = {\"tool\":tool_types[j],\"sim_ind\":i+1}\n",
    "        file_path = os.path.join(folder,file)\n",
    "        df = pd.read_csv(file_path, delimiter=\"\\t\")\n",
    "        \n",
    "        df = df.iloc[:,2:].mean(axis = 0)\n",
    "\n",
    "        names = [elem + \"_mean\" for elem in list(df.index)]\n",
    "        df.index = names\n",
    "\n",
    "        record = df.to_dict()\n",
    "        row.update(record)\n",
    "\n",
    "        main_dataframe.append(row)\n",
    "\n",
    "    main_dataframe = pd.DataFrame(main_dataframe)\n",
    "    tool_scores_dict.update({tool_types[j]:main_dataframe})\n",
    "\n"
   ]
  },
  {
   "cell_type": "code",
   "execution_count": 55,
   "id": "4fadde86-76d4-4db2-8698-6a15a5f3b878",
   "metadata": {},
   "outputs": [],
   "source": [
    "all_metrics_dataframe = pd.concat([df for _,df in tool_scores_dict.items()])\n",
    "\n",
    "large_metrics_dataframe = all_metrics_dataframe[[\"tool\",\"sim_ind\",\"hmmer_seq_score_mean\",\"stat_energy_scores_mean\"]]\n",
    "small_metrics_dataframe = all_metrics_dataframe[[\"tool\",\"sim_ind\",\"min_natural_ham_dist_mean\"]]"
   ]
  },
  {
   "cell_type": "code",
   "execution_count": 56,
   "id": "be0aed61-b7ad-483b-bcc0-2821399fcb7f",
   "metadata": {},
   "outputs": [],
   "source": [
    "melted_large_metrics_dataframe = pd.melt(large_metrics_dataframe, id_vars=[\"tool\",\"sim_ind\"], var_name=\"score_type\")\n",
    "melted_small_metrics_dataframe = pd.melt(small_metrics_dataframe, id_vars=[\"tool\",\"sim_ind\"], var_name=\"score_type\")\n"
   ]
  },
  {
   "cell_type": "code",
   "execution_count": 60,
   "id": "2d1e33d8-2580-4c9a-acf4-006dac58830c",
   "metadata": {},
   "outputs": [
    {
     "data": {
      "text/html": [
       "<iframe\n",
       "    scrolling=\"no\"\n",
       "    width=\"100%\"\n",
       "    height=\"545px\"\n",
       "    src=\"iframe_figures/figure_60.html\"\n",
       "    frameborder=\"0\"\n",
       "    allowfullscreen\n",
       "></iframe>\n"
      ]
     },
     "metadata": {},
     "output_type": "display_data"
    }
   ],
   "source": [
    "import plotly.express as px\n",
    "\n",
    "import plotly.io as pio\n",
    "pio.renderers.default = 'iframe'\n",
    "\n",
    "fig = px.violin(melted_small_metrics_dataframe, y=\"value\", x=\"tool\",color = \"score_type\", points=\"all\")\n",
    "fig.show()"
   ]
  },
  {
   "cell_type": "code",
   "execution_count": 58,
   "id": "70e29569-03e3-4038-871f-f70c05fd3812",
   "metadata": {},
   "outputs": [
    {
     "data": {
      "text/html": [
       "<iframe\n",
       "    scrolling=\"no\"\n",
       "    width=\"100%\"\n",
       "    height=\"545px\"\n",
       "    src=\"iframe_figures/figure_58.html\"\n",
       "    frameborder=\"0\"\n",
       "    allowfullscreen\n",
       "></iframe>\n"
      ]
     },
     "metadata": {},
     "output_type": "display_data"
    }
   ],
   "source": [
    "fig = px.violin(melted_large_metrics_dataframe, y=\"value\", x=\"tool\",color=\"score_type\",points=\"all\")\n",
    "fig.show()"
   ]
  }
 ],
 "metadata": {
  "kernelspec": {
   "display_name": "Python 3 (ipykernel)",
   "language": "python",
   "name": "python3"
  },
  "language_info": {
   "codemirror_mode": {
    "name": "ipython",
    "version": 3
   },
   "file_extension": ".py",
   "mimetype": "text/x-python",
   "name": "python",
   "nbconvert_exporter": "python",
   "pygments_lexer": "ipython3",
   "version": "3.8.18"
  }
 },
 "nbformat": 4,
 "nbformat_minor": 5
}
